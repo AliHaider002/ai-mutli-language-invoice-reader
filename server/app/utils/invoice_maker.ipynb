{
 "cells": [
  {
   "cell_type": "code",
   "execution_count": 2,
   "id": "d82abca0-efa3-46e0-9545-7e8341d040f8",
   "metadata": {},
   "outputs": [
    {
     "data": {
      "text/plain": [
       "True"
      ]
     },
     "execution_count": 2,
     "metadata": {},
     "output_type": "execute_result"
    }
   ],
   "source": [
    "import os \n",
    "from PIL import Image\n",
    "from dotenv import load_dotenv\n",
    "import google.generativeai as genai\n",
    "\n",
    "load_dotenv()"
   ]
  },
  {
   "cell_type": "code",
   "execution_count": 3,
   "id": "9a56545f-3c1e-4b44-9809-25ec828e4bcf",
   "metadata": {},
   "outputs": [],
   "source": [
    "# print(os.getenv(\"GOOGLE_API_KEY\"))\n",
    "genai.configure(api_key=os.getenv(\"GOOGLE_API_KEY\"))"
   ]
  },
  {
   "cell_type": "code",
   "execution_count": 4,
   "id": "65bbd606-dc66-489a-9245-ef9356d5287b",
   "metadata": {},
   "outputs": [],
   "source": [
    "model = genai.GenerativeModel(\"gemini-pro-vision\")"
   ]
  },
  {
   "cell_type": "code",
   "execution_count": 5,
   "id": "41492984-5ce3-4b58-8287-9822038a103a",
   "metadata": {},
   "outputs": [],
   "source": [
    "def get_gemini_response(input, image, prompt):\n",
    "    response = model.generate_content([input,image[0], prompt])\n",
    "    return response.text"
   ]
  },
  {
   "cell_type": "code",
   "execution_count": null,
   "id": "0b6b02d1-b0e6-4be5-9013-516f25fa5cf7",
   "metadata": {},
   "outputs": [],
   "source": [
    "def input_image_setup(upload_file):\n",
    "    bytes_data = uploaded_file.getvalue()"
   ]
  }
 ],
 "metadata": {
  "kernelspec": {
   "display_name": "Python 3 (ipykernel)",
   "language": "python",
   "name": "python3"
  },
  "language_info": {
   "codemirror_mode": {
    "name": "ipython",
    "version": 3
   },
   "file_extension": ".py",
   "mimetype": "text/x-python",
   "name": "python",
   "nbconvert_exporter": "python",
   "pygments_lexer": "ipython3",
   "version": "3.11.7"
  }
 },
 "nbformat": 4,
 "nbformat_minor": 5
}
